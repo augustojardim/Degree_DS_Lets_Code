{
 "cells": [
  {
   "cell_type": "markdown",
   "id": "33e5d268-e47e-4a4a-9600-d9a3a55887e7",
   "metadata": {},
   "source": [
    "## Exercícios"
   ]
  },
  {
   "cell_type": "code",
   "execution_count": 1,
   "id": "31094066-ff80-4264-99a0-e41dbb79e378",
   "metadata": {},
   "outputs": [],
   "source": [
    "import numpy as np"
   ]
  },
  {
   "cell_type": "markdown",
   "id": "ae4d9dcc-2225-4304-9263-a5eee5465667",
   "metadata": {},
   "source": [
    "1 - Selecione todos os valores ímpares do seguinte array:  <br>\n",
    "array = [1, 2, 3, 4, 5, 6, 7, 8, 9] <br>\n"
   ]
  },
  {
   "cell_type": "code",
   "execution_count": 2,
   "id": "5340a15e-2112-497b-8c06-8d227e218dcf",
   "metadata": {},
   "outputs": [
    {
     "name": "stdout",
     "output_type": "stream",
     "text": [
      "[1 3 5 7 9]\n"
     ]
    }
   ],
   "source": [
    "vetor = np.array([1, 2, 3, 4, 5, 6, 7, 8, 9])\n",
    "filt = (vetor % 2 != 0)\n",
    "vetor_impar = vetor[filt]\n",
    "print(vetor_impar)"
   ]
  },
  {
   "cell_type": "markdown",
   "id": "c22ee8a9-f201-40a7-aa61-a77be8805f03",
   "metadata": {},
   "source": [
    "2 - Substitua os valores ímpares do seguinte array por 0:  <br>\n",
    "array = [1, 2, 3, 4, 5, 6, 7, 8, 9] <br>\n"
   ]
  },
  {
   "cell_type": "code",
   "execution_count": 3,
   "id": "f6bfb136-2602-4bc5-a524-f843e3628b7d",
   "metadata": {},
   "outputs": [
    {
     "name": "stdout",
     "output_type": "stream",
     "text": [
      "[0 2 0 4 0 6 0 8 0]\n"
     ]
    }
   ],
   "source": [
    "vetor[filt] = 0\n",
    "print(vetor)"
   ]
  },
  {
   "cell_type": "markdown",
   "id": "f7820a7f-f9f4-4a30-8d01-ac8a1b984bb8",
   "metadata": {},
   "source": [
    "3 - Considere o dataset da iris disponível em: \n",
    "url = 'https://archive.ics.uci.edu/ml/machine-learning-databases/iris/iris.data'<br> \n",
    "Nesse dataset temos as seguintes informações:<br> \n",
    "   * Coluna 1. sepal length em cm<br> \n",
    "   * Coluna 2. sepal width em cm<br> \n",
    "   * Coluna 3. petal length em cm<br> \n",
    "   * Coluna 4. petal width em cm<br> \n",
    "   * Coluna 5. classe: \n",
    "                -- Iris Setosa \n",
    "                -- Iris Versicolour \n",
    "                -- Iris Virginica \n",
    "                \n",
    "Utilizando o método `np.genfromtxt()`, importe as 4 primeiras colunas do dataset do íris e print as 10 primeiras linhas <br>"
   ]
  },
  {
   "cell_type": "code",
   "execution_count": 4,
   "id": "4732cd96-f418-47bd-9fae-15225c730860",
   "metadata": {},
   "outputs": [],
   "source": [
    "filedata = np.genfromtxt('https://archive.ics.uci.edu/ml/machine-learning-databases/iris/iris.data', delimiter=',')"
   ]
  },
  {
   "cell_type": "code",
   "execution_count": 5,
   "id": "ad8f73c8-1c05-42ac-a1c2-ce83cf258745",
   "metadata": {},
   "outputs": [
    {
     "name": "stdout",
     "output_type": "stream",
     "text": [
      "[[5.1 3.5 1.4 0.2]\n",
      " [4.9 3.  1.4 0.2]\n",
      " [4.7 3.2 1.3 0.2]\n",
      " [4.6 3.1 1.5 0.2]\n",
      " [5.  3.6 1.4 0.2]\n",
      " [5.4 3.9 1.7 0.4]\n",
      " [4.6 3.4 1.4 0.3]\n",
      " [5.  3.4 1.5 0.2]\n",
      " [4.4 2.9 1.4 0.2]\n",
      " [4.9 3.1 1.5 0.1]]\n"
     ]
    },
    {
     "data": {
      "text/plain": [
       "(10, 4)"
      ]
     },
     "execution_count": 5,
     "metadata": {},
     "output_type": "execute_result"
    }
   ],
   "source": [
    "filtrado = filedata[0:10,0:4]\n",
    "print(filtrado)\n",
    "np.shape(filtrado) #Verificando se vieram 10 linhas e 4 colunas"
   ]
  },
  {
   "cell_type": "code",
   "execution_count": 6,
   "id": "e76f327b-b685-4059-9fa3-845597dcc2d4",
   "metadata": {},
   "outputs": [
    {
     "data": {
      "text/plain": [
       "array([5.1, 4.9, 4.7, 4.6, 5. , 5.4, 4.6, 5. , 4.4, 4.9])"
      ]
     },
     "execution_count": 6,
     "metadata": {},
     "output_type": "execute_result"
    }
   ],
   "source": [
    "filtrado[:,0] #Coluna da Sepal Lenght"
   ]
  },
  {
   "cell_type": "markdown",
   "id": "454918e8-ac4c-4766-a29c-7a6b10b2e791",
   "metadata": {},
   "source": [
    "4 - Calcule a média, mediana e desvio padrão da coluna sepallenght"
   ]
  },
  {
   "cell_type": "code",
   "execution_count": 7,
   "id": "1009c846-dcd2-4faf-a062-df587fcd2554",
   "metadata": {},
   "outputs": [
    {
     "name": "stdout",
     "output_type": "stream",
     "text": [
      "A média das sépalas é 4.859999999999999\n",
      "A mediana das sépalas é 4.9\n",
      "O desvio padrão das sépalas é 0.2764054992217051\n"
     ]
    }
   ],
   "source": [
    "media_sepallenght = np.mean(filtrado[:,0])\n",
    "print(f'A média das sépalas é {media_sepallenght}')\n",
    "mediana_sepallenght = np.median(filtrado[:,0])\n",
    "print(f'A mediana das sépalas é {mediana_sepallenght}')\n",
    "desvioPad_sepallenght = np.std(filtrado[:,0])\n",
    "print(f'O desvio padrão das sépalas é {desvioPad_sepallenght}')"
   ]
  },
  {
   "cell_type": "markdown",
   "id": "710411cb-62a1-49ab-8486-ded47331ecd6",
   "metadata": {},
   "source": [
    "5 - Filtre a matriz para conter apenas dados nos quais petallength (3ª coluna) > 1.5 e sepallength (1ª coluna) < 5.0"
   ]
  },
  {
   "cell_type": "code",
   "execution_count": 23,
   "id": "50fcc9eb-3727-47d7-95ce-1cae8eadfe91",
   "metadata": {},
   "outputs": [],
   "source": [
    "filt1 = filtrado[:,0] < 5\n",
    "filt2 = filtrado[:,2] > 1.5"
   ]
  },
  {
   "cell_type": "code",
   "execution_count": 24,
   "id": "658c616b-a0fc-433c-bbcd-6a4e584d2985",
   "metadata": {},
   "outputs": [
    {
     "data": {
      "text/plain": [
       "array([], shape=(0, 4), dtype=float64)"
      ]
     },
     "execution_count": 24,
     "metadata": {},
     "output_type": "execute_result"
    }
   ],
   "source": [
    "filtrado[filt1 & filt2]"
   ]
  },
  {
   "cell_type": "markdown",
   "id": "a6d62f77-1be4-4b9f-b483-fdc4cb364ac2",
   "metadata": {},
   "source": [
    "6 - Esse dataset possui nans?"
   ]
  },
  {
   "cell_type": "code",
   "execution_count": null,
   "id": "a462ef3a-8e57-41fb-9b64-d341e33687db",
   "metadata": {},
   "outputs": [],
   "source": []
  },
  {
   "cell_type": "markdown",
   "id": "e302847d-331c-4a9c-9b1a-364df9e63252",
   "metadata": {},
   "source": [
    "7 - Crie uma coluna de volume sabendo que ele pode ser calculado por (pi x petallength x sepal_length^2)/3"
   ]
  },
  {
   "cell_type": "code",
   "execution_count": null,
   "id": "a4f40927-6d05-4203-b251-2e29641c477a",
   "metadata": {},
   "outputs": [],
   "source": []
  }
 ],
 "metadata": {
  "kernelspec": {
   "display_name": "Python 3 (ipykernel)",
   "language": "python",
   "name": "python3"
  },
  "language_info": {
   "codemirror_mode": {
    "name": "ipython",
    "version": 3
   },
   "file_extension": ".py",
   "mimetype": "text/x-python",
   "name": "python",
   "nbconvert_exporter": "python",
   "pygments_lexer": "ipython3",
   "version": "3.9.7"
  }
 },
 "nbformat": 4,
 "nbformat_minor": 5
}
