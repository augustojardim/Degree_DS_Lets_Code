{
 "cells": [
  {
   "cell_type": "markdown",
   "metadata": {},
   "source": [
    "# Lista 3 - while"
   ]
  },
  {
   "cell_type": "markdown",
   "metadata": {},
   "source": [
    "1. Faça um programa que peça ao usuário um número e imprima todos os números de um até o número dado. Exemplo: digite: 5, imprime: 1 2 3 4 5"
   ]
  },
  {
   "cell_type": "code",
   "execution_count": null,
   "metadata": {
    "ExecuteTime": {
     "end_time": "2021-10-28T23:25:55.017752Z",
     "start_time": "2021-10-28T23:25:53.030474Z"
    }
   },
   "outputs": [],
   "source": [
    "num = int(input('Insira um número inteiro: '))\n",
    "cont = 0\n",
    "while cont<num:\n",
    "    print(cont+1,end=' ')\n",
    "    cont = cont+1"
   ]
  },
  {
   "cell_type": "markdown",
   "metadata": {},
   "source": [
    "2. Peça ao usuário para digitar um número n e some todos os números de 1 a n."
   ]
  },
  {
   "cell_type": "code",
   "execution_count": null,
   "metadata": {
    "ExecuteTime": {
     "end_time": "2021-10-28T23:26:35.037487Z",
     "start_time": "2021-10-28T23:26:33.983372Z"
    }
   },
   "outputs": [],
   "source": [
    "num = int(input(\"Digite o valor de n: \")) \n",
    "soma = 0\n",
    "i = 1\n",
    "while i <= num:\n",
    "    soma = soma + i\n",
    "    i = i + 1\n",
    "print(f'A soma dos {num} primeiros inteiros positivos é {soma}')"
   ]
  },
  {
   "cell_type": "markdown",
   "metadata": {},
   "source": [
    "3. Peça ao usuário para digitar um número e imprima o fatorial de n."
   ]
  },
  {
   "cell_type": "code",
   "execution_count": null,
   "metadata": {
    "ExecuteTime": {
     "end_time": "2021-10-29T00:03:00.558838Z",
     "start_time": "2021-10-29T00:02:59.199757Z"
    }
   },
   "outputs": [],
   "source": [
    "num = float(input('Insira o número do qual deseja saber o fatorial: '))\n",
    "fat = 1\n",
    "i = 2\n",
    "while i <= num:\n",
    "    fat = fat*i\n",
    "    i = i + 1\n",
    "print(fat)\n"
   ]
  },
  {
   "cell_type": "markdown",
   "metadata": {},
   "source": [
    "4. Faça um programa que imprima a tabuada do 9 (de 9\\*1 a 9\\*10) usando loops."
   ]
  },
  {
   "cell_type": "code",
   "execution_count": 3,
   "metadata": {
    "ExecuteTime": {
     "end_time": "2021-10-29T00:17:28.098873Z",
     "start_time": "2021-10-29T00:17:28.086736Z"
    }
   },
   "outputs": [
    {
     "name": "stdout",
     "output_type": "stream",
     "text": [
      "9 x 1 = 9\n",
      "9 x 2 = 18\n",
      "9 x 3 = 27\n",
      "9 x 4 = 36\n",
      "9 x 5 = 45\n",
      "9 x 6 = 54\n",
      "9 x 7 = 63\n",
      "9 x 8 = 72\n",
      "9 x 9 = 81\n",
      "9 x 10 = 90\n"
     ]
    }
   ],
   "source": [
    "i = 1\n",
    "while i <= 10:\n",
    "    print(f'9 x {i} = {9*i}')\n",
    "    i = i + 1"
   ]
  },
  {
   "cell_type": "markdown",
   "metadata": {},
   "source": [
    "5. Faça um programa que recebe um número inteiro do usuário e imprime na tela a quantidade de divisores desse número e quais são eles.\n",
    "\n"
   ]
  },
  {
   "cell_type": "code",
   "execution_count": null,
   "metadata": {},
   "outputs": [],
   "source": [
    "num = int(input('Digite um número inteiro: ')) \n",
    "div =[] \n",
    "i=0 \n",
    "while i<num-1: \n",
    "    i = i+1 \n",
    "    if num%i == 0: \n",
    "        div.append(i) \n",
    "        print(f'Divisor: {i}') \n",
    "print(f'O número {num} tem {len(div)} divisores')"
   ]
  },
  {
   "cell_type": "markdown",
   "metadata": {},
   "source": [
    "6. Faça um programa, usando loops, que peça para um usuário digitar um número e que só finaliza quando o usuário digitar 0. Ao final imprima a soma de todos os números digitados."
   ]
  },
  {
   "cell_type": "code",
   "execution_count": null,
   "metadata": {
    "ExecuteTime": {
     "end_time": "2021-10-28T00:49:58.361711Z",
     "start_time": "2021-10-28T00:49:57.164241Z"
    }
   },
   "outputs": [],
   "source": [
    "n = int(input('Digite um número inteiro:')) \n",
    "a =[] \n",
    "a.append(n) \n",
    "while n != 0: \n",
    "    n = int(input('Digite um número inteiro:')) \n",
    "    a.append(n) \n",
    "print(f'A soma dos números inseridos antes do zero é {sum(a)}')"
   ]
  },
  {
   "cell_type": "markdown",
   "metadata": {},
   "source": [
    "7. Faça um programa que sorteia um número N e peça para o usuário adivinhar o número sorteado. A cada resposta errada, o seu programa deve imprimir um aviso dizendo que a resposta está errada e pedir novamente uma resposta ao usuário."
   ]
  },
  {
   "cell_type": "code",
   "execution_count": 1,
   "metadata": {
    "ExecuteTime": {
     "end_time": "2021-10-29T00:53:44.427243Z",
     "start_time": "2021-10-29T00:53:32.367070Z"
    }
   },
   "outputs": [
    {
     "name": "stdout",
     "output_type": "stream",
     "text": [
      "Insira o seu chute: 2\n",
      "Chute errado!\n",
      "Tente novamente:3\n",
      "Chute errado!\n",
      "Tente novamente:4\n",
      "Chute errado!\n",
      "Tente novamente:5\n",
      "Chute errado!\n",
      "Tente novamente:1\n",
      "Chute errado!\n",
      "Tente novamente:6\n",
      "Chute errado!\n",
      "Tente novamente:7\n",
      "Chute errado!\n",
      "Tente novamente:8\n",
      "Acertou!\n"
     ]
    }
   ],
   "source": [
    "import random as rd\n",
    "num = rd.randint(0,10)\n",
    "chute = int(input('Insira o seu chute: '))\n",
    "while chute != num:\n",
    "    print('Chute errado!')\n",
    "    chute = int(input('Tente novamente:'))\n",
    "print('Acertou!')"
   ]
  },
  {
   "cell_type": "markdown",
   "metadata": {},
   "source": [
    "8. Faça um programa que peça para o usuário digitar a idade, o salário e o sexo de uma pessoa até que as entradas digitadas sejam válidas.\n",
    "    a. Idade: entre 0 e 150;\n",
    "    b. Salário: maior que 0;\n",
    "    c. Sexo: M, F ou Outro."
   ]
  },
  {
   "cell_type": "code",
   "execution_count": 8,
   "metadata": {
    "ExecuteTime": {
     "end_time": "2021-10-29T01:12:25.229710Z",
     "start_time": "2021-10-29T01:12:14.210882Z"
    }
   },
   "outputs": [
    {
     "name": "stdout",
     "output_type": "stream",
     "text": [
      "Insira sua idade: 12\n",
      "Insira seu salário: 359\n",
      "Insira o gênero com o qual se identifica\n",
      "Use M para masculino\n",
      "Use F para feminino\n",
      "Use O para outros\n",
      "M\n"
     ]
    }
   ],
   "source": [
    "idade = int(input('Insira sua idade: '))\n",
    "while (idade > 150) or (idade < 0):\n",
    "    print('Idade inválida!')\n",
    "    idade = int(input('Digite a idade novamente:'))\n",
    "sal = float(input('Insira seu salário: '))\n",
    "while (sal < 0):\n",
    "    print('Salário inválido!')\n",
    "    sal = float(input('Insira novamente seu salário: '))\n",
    "print('Insira o gênero com o qual se identifica')\n",
    "print('Use M para masculino\\nUse F para feminino\\nUse O para outros')\n",
    "genero = input().upper()\n",
    "while (genero != 'M') and (genero != 'F') and (genero != 'O'):\n",
    "    print('Opção inválida!')\n",
    "    genero = input('Digite novamente o seu gênero: ').upper"
   ]
  },
  {
   "cell_type": "markdown",
   "metadata": {},
   "source": [
    "__________________\n",
    "__________________\n",
    "\n",
    "__________________\n",
    "__________________\n"
   ]
  },
  {
   "cell_type": "markdown",
   "metadata": {},
   "source": [
    "# DESAFIOS"
   ]
  },
  {
   "cell_type": "markdown",
   "metadata": {},
   "source": [
    "1. Calcule a soma de até mil termos da série 1 + 1/2 + 1/4 + 1/8 + 1/16 + ...\n",
    "Dica: Use três variáveis:\n",
    "um contador, que começa em zero;\n",
    "uma variável para a soma de todos os termos, que também começa em zero;\n",
    "uma variável para cada termo, que começa em 1 e a cada loop é dividida por 2.\n",
    "A repetição da soma de mil termos pode ser feita com a função while contador < 1000.\n"
   ]
  },
  {
   "cell_type": "code",
   "execution_count": null,
   "metadata": {},
   "outputs": [],
   "source": []
  },
  {
   "cell_type": "markdown",
   "metadata": {},
   "source": [
    "\n",
    "\n",
    "2. Super Desafio! - Calcule a soma de mil termos dos inversos dos fatoriais: 1/(1!) + 1/(2!) + 1/(3!) + 1/(4!) + ...\n",
    "Dica: Assim como no exercício anterior use três variáveis: um contador; uma variável para a soma; e uma variável para os termos.\n",
    "Lembre-se de que 4! = 4\\*3\\*2\\*1 que também é igual a 4\\*3!."
   ]
  },
  {
   "cell_type": "code",
   "execution_count": null,
   "metadata": {},
   "outputs": [],
   "source": []
  }
 ],
 "metadata": {
  "kernelspec": {
   "display_name": "Python 3",
   "language": "python",
   "name": "python3"
  },
  "language_info": {
   "codemirror_mode": {
    "name": "ipython",
    "version": 3
   },
   "file_extension": ".py",
   "mimetype": "text/x-python",
   "name": "python",
   "nbconvert_exporter": "python",
   "pygments_lexer": "ipython3",
   "version": "3.8.8"
  },
  "varInspector": {
   "cols": {
    "lenName": 16,
    "lenType": 16,
    "lenVar": 40
   },
   "kernels_config": {
    "python": {
     "delete_cmd_postfix": "",
     "delete_cmd_prefix": "del ",
     "library": "var_list.py",
     "varRefreshCmd": "print(var_dic_list())"
    },
    "r": {
     "delete_cmd_postfix": ") ",
     "delete_cmd_prefix": "rm(",
     "library": "var_list.r",
     "varRefreshCmd": "cat(var_dic_list()) "
    }
   },
   "types_to_exclude": [
    "module",
    "function",
    "builtin_function_or_method",
    "instance",
    "_Feature"
   ],
   "window_display": false
  }
 },
 "nbformat": 4,
 "nbformat_minor": 4
}
