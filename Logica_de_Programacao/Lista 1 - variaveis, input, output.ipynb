{
 "cells": [
  {
   "cell_type": "markdown",
   "metadata": {},
   "source": [
    "____________"
   ]
  },
  {
   "cell_type": "markdown",
   "metadata": {},
   "source": [
    "# Lista 1 - variáveis, input, output"
   ]
  },
  {
   "cell_type": "markdown",
   "metadata": {},
   "source": [
    "\n",
    "1. Faça um programa que mostre a mensagem \"Olá, mundo!\" na tela.\n"
   ]
  },
  {
   "cell_type": "code",
   "execution_count": null,
   "metadata": {
    "ExecuteTime": {
     "end_time": "2021-10-21T00:51:48.239571Z",
     "start_time": "2021-10-21T00:51:48.219568Z"
    }
   },
   "outputs": [],
   "source": [
    "print('Olá mundo!')"
   ]
  },
  {
   "cell_type": "markdown",
   "metadata": {},
   "source": [
    "2. Faça um programa que peça um número e mostre a mensagem \"O número informado foi [número]\".\n"
   ]
  },
  {
   "cell_type": "code",
   "execution_count": null,
   "metadata": {
    "ExecuteTime": {
     "end_time": "2021-10-21T00:52:41.269060Z",
     "start_time": "2021-10-21T00:52:38.915548Z"
    }
   },
   "outputs": [],
   "source": [
    "num = input('Insira um número: ')\n",
    "print(f'O número informado foi {num}')"
   ]
  },
  {
   "cell_type": "markdown",
   "metadata": {},
   "source": [
    "\n",
    "3. Faça um programa que peça um número para o usuário (string), converta-o para float e depois imprima-o na tela. Você consegue fazer a mesma coisa, porém convertendo para int?\n",
    "\n"
   ]
  },
  {
   "cell_type": "code",
   "execution_count": null,
   "metadata": {
    "ExecuteTime": {
     "end_time": "2021-10-21T00:57:24.730244Z",
     "start_time": "2021-10-21T00:57:23.639521Z"
    }
   },
   "outputs": [],
   "source": [
    "num = input('Insira um número: ')\n",
    "numConv = float(num)\n",
    "print(numConv)"
   ]
  },
  {
   "cell_type": "markdown",
   "metadata": {},
   "source": [
    "4. Faça um programa que peça dois números e imprima a soma deles.\n",
    "\n"
   ]
  },
  {
   "cell_type": "code",
   "execution_count": null,
   "metadata": {
    "ExecuteTime": {
     "end_time": "2021-10-21T01:00:45.655066Z",
     "start_time": "2021-10-21T01:00:44.125726Z"
    }
   },
   "outputs": [],
   "source": [
    "n1 = float(input('Insira o primeiro número: '))\n",
    "n2 = float(input('Insira o segundo número: '))\n",
    "print(f'A soma dos números {n1} e {n2} é {n1+n2}')"
   ]
  },
  {
   "cell_type": "markdown",
   "metadata": {},
   "source": [
    "5. Faça um programa que peça as 4 notas bimestrais de um aluno e mostre a média aritmética delas.\n"
   ]
  },
  {
   "cell_type": "code",
   "execution_count": null,
   "metadata": {
    "ExecuteTime": {
     "end_time": "2021-10-21T19:51:54.305996Z",
     "start_time": "2021-10-21T19:51:40.057032Z"
    }
   },
   "outputs": [],
   "source": [
    "n1 = float(input('Insira a sua primeira nota bimestral: '))\n",
    "n2 = float(input('Insira a sua segunda nota bimestral: '))\n",
    "n3 = float(input('Insira a sua terceira nota bimestral: '))\n",
    "n4 = float(input('Insira a sua quarta nota bimestral: '))\n",
    "med = (n1 + n2 + n3 + n4)/4\n",
    "print(f'A média do aluno foi de {med:,.2f} pontos')"
   ]
  },
  {
   "cell_type": "markdown",
   "metadata": {},
   "source": [
    "6. Faça um programa que converta um valor em metros para centímetros.\n",
    "\n"
   ]
  },
  {
   "cell_type": "code",
   "execution_count": null,
   "metadata": {
    "ExecuteTime": {
     "end_time": "2021-10-21T19:54:01.344666Z",
     "start_time": "2021-10-21T19:53:56.199550Z"
    }
   },
   "outputs": [],
   "source": [
    "comp = float(input('Insira um valor em metros que se deseja converter em centímetros: '))\n",
    "print(f'O valor em centimetros é {comp*100:,.2f}')"
   ]
  },
  {
   "cell_type": "markdown",
   "metadata": {},
   "source": [
    "7. Faça um programa que peça o raio de um círculo, calcule e mostre sua área. Obs: Fórmula da área de um círculo: A = 3,14*r2, onde r é o raio.\n"
   ]
  },
  {
   "cell_type": "code",
   "execution_count": null,
   "metadata": {
    "ExecuteTime": {
     "end_time": "2021-10-21T19:59:12.198586Z",
     "start_time": "2021-10-21T19:59:08.846465Z"
    }
   },
   "outputs": [],
   "source": [
    "raio = float(input('Insira o valor do raio em metros: '))\n",
    "area = 3.14*raio**2\n",
    "print(f'O valor da área em metros é de aproximadamente {area:,.2f}')"
   ]
  },
  {
   "cell_type": "markdown",
   "metadata": {},
   "source": [
    "\n",
    "8. Faça um programa que pergunte quanto você ganha por hora e o número de horas trabalhadas no mês e depois, calcule e mostre o total do seu salário no referido mês.\n",
    "\n"
   ]
  },
  {
   "cell_type": "code",
   "execution_count": null,
   "metadata": {
    "ExecuteTime": {
     "end_time": "2021-10-21T20:25:41.444871Z",
     "start_time": "2021-10-21T20:25:34.279904Z"
    }
   },
   "outputs": [],
   "source": [
    "valH = float(input('Insira o valor que você ganha por hora: '))\n",
    "hT = float(input('Insira a quantidade de horas trabalhas no mês: '))\n",
    "salT = valH*hT\n",
    "print(f'O valor total do salário é de R${salT:,.2f}')"
   ]
  },
  {
   "cell_type": "markdown",
   "metadata": {},
   "source": [
    "9. Faça um programa que peça a temperatura em graus Fahrenheit (F), transforme e mostre a temperatura em graus Celsius (°C). °C = (5 * (F-32) / 9) Obs: Tente também fazer um programa que faça o inverso: peça a temperatura em graus Celsius e a transforme em graus Fahrenheit.\n"
   ]
  },
  {
   "cell_type": "code",
   "execution_count": null,
   "metadata": {
    "ExecuteTime": {
     "end_time": "2021-10-21T20:08:11.811218Z",
     "start_time": "2021-10-21T20:08:06.955786Z"
    }
   },
   "outputs": [],
   "source": [
    "Fahr = float(input('Insira a temperatura em graus Fahrenheit: '))\n",
    "Cels = 5*(Fahr - 32)/9\n",
    "print(f'O valor da temperatura em graus celsius é {Cels:,.2f}')"
   ]
  },
  {
   "cell_type": "markdown",
   "metadata": {},
   "source": [
    "\n",
    "10. Faça um programa que peça o dia, o mês e o ano para o usuário e imprima a data completa no formato dd/mm/aaaa.\n",
    "\n"
   ]
  },
  {
   "cell_type": "code",
   "execution_count": 1,
   "metadata": {
    "ExecuteTime": {
     "end_time": "2021-10-28T22:33:47.217611Z",
     "start_time": "2021-10-28T22:33:42.942606Z"
    }
   },
   "outputs": [
    {
     "name": "stdout",
     "output_type": "stream",
     "text": [
      "Insira o dia do seu nascimento: 06\n",
      "Insira o dia do seu nascimento: 11\n",
      "Insira o dia do seu nascimento: 1992\n",
      "06/11/1992\n"
     ]
    }
   ],
   "source": [
    "dia = input('Insira o dia do seu nascimento: ')\n",
    "mes = input('Insira o dia do seu nascimento: ')\n",
    "ano = input('Insira o dia do seu nascimento: ')\n",
    "print(f'{dia}/{mes}/{ano}')"
   ]
  },
  {
   "cell_type": "markdown",
   "metadata": {},
   "source": [
    "11. Faça um programa que peça 2 números inteiros e um número real, calcule e mostre:\n",
    "a) o produto do dobro do primeiro com metade do segundo.\n",
    "b) a soma do triplo do primeiro com o terceiro.\n",
    "c) o terceiro elevado ao cubo.\n",
    "\n"
   ]
  },
  {
   "cell_type": "code",
   "execution_count": 2,
   "metadata": {
    "ExecuteTime": {
     "end_time": "2021-10-28T22:34:21.226990Z",
     "start_time": "2021-10-28T22:34:02.336799Z"
    }
   },
   "outputs": [
    {
     "name": "stdout",
     "output_type": "stream",
     "text": [
      "Insira o primeiro número\n",
      "Ele deve ser inteiro: 4\n",
      "Insira o segundo número\n",
      "Ele deve ser inteiro: 5\n",
      "Insira o terceiro número\n",
      "Ele deve ser real: 2.2\n",
      "O produto do dobro de 4 com metade de 5 vale 20.00\n",
      "A soma do triplo de 4 com 2.2 vale 14.20\n",
      "O número 2.2 elevado ao cubo vale 10.65\n"
     ]
    }
   ],
   "source": [
    "n1 = int(input('Insira o primeiro número\\nEle deve ser inteiro: '))\n",
    "n2 = int(input('Insira o segundo número\\nEle deve ser inteiro: '))\n",
    "n3 = float(input('Insira o terceiro número\\nEle deve ser real: '))\n",
    "print(f'O produto do dobro de {n1} com metade de {n2} vale {2*n1*n2/2:,.2f}')\n",
    "print(f'A soma do triplo de {n1} com {n3} vale {(3*n1) + n3:,.2f}')\n",
    "print(f'O número {n3} elevado ao cubo vale {n3**3:,.2f}')"
   ]
  },
  {
   "cell_type": "markdown",
   "metadata": {},
   "source": [
    "12. Faça um programa que peça o peso e altura de uma pessoa e calcule seu IMC (Índice de Massa Corporal).\n",
    "Obs: IMC = Peso/Altura2\n",
    "\n"
   ]
  },
  {
   "cell_type": "code",
   "execution_count": 3,
   "metadata": {
    "ExecuteTime": {
     "end_time": "2021-10-28T22:34:49.301991Z",
     "start_time": "2021-10-28T22:34:41.600701Z"
    }
   },
   "outputs": [
    {
     "name": "stdout",
     "output_type": "stream",
     "text": [
      "Insira seu peso em kg: 70\n",
      "Insira sua altura em metros: 1.68\n",
      "O seu IMC é 24.802\n"
     ]
    }
   ],
   "source": [
    "peso = float(input('Insira seu peso em kg: '))\n",
    "altura = float(input('Insira sua altura em metros: '))\n",
    "imc = peso/altura**2\n",
    "print(f'O seu IMC é {imc:,.3f}')"
   ]
  },
  {
   "cell_type": "markdown",
   "metadata": {},
   "source": [
    "13. Faça um programa que peça um valor monetário e aumente-o em\n",
    "15%. Seu programa deve imprimir a mensagem “O novo valor é\n",
    "R$[valor]”.\n"
   ]
  },
  {
   "cell_type": "code",
   "execution_count": null,
   "metadata": {
    "ExecuteTime": {
     "end_time": "2021-10-21T19:41:32.407116Z",
     "start_time": "2021-10-21T19:41:30.845037Z"
    }
   },
   "outputs": [],
   "source": [
    "din = float(input('Insira o valor monetário a ser aumentado: '))\n",
    "newVal = din + 0.15*din\n",
    "print(f'O novo valor é R${newVal:,.2f}')"
   ]
  },
  {
   "cell_type": "markdown",
   "metadata": {},
   "source": [
    "\n",
    "14. Faça um programa que peça um valor monetário e diminua-o em 15%.\n",
    "Seu programa deve imprimir a mensagem “O novo valor é R$[valor]”.\n"
   ]
  },
  {
   "cell_type": "code",
   "execution_count": null,
   "metadata": {
    "ExecuteTime": {
     "end_time": "2021-10-21T19:41:59.062845Z",
     "start_time": "2021-10-21T19:41:57.629327Z"
    }
   },
   "outputs": [],
   "source": [
    "din = float(input('Insira o valor monetário a ser diminuído: '))\n",
    "newVal = din - 0.15*din\n",
    "print(f'O novo valor é R${newVal:,.2f}')"
   ]
  },
  {
   "cell_type": "markdown",
   "metadata": {},
   "source": [
    "__________________\n",
    "__________________\n",
    "\n",
    "__________________\n",
    "__________________\n"
   ]
  },
  {
   "cell_type": "markdown",
   "metadata": {},
   "source": [
    "# DESAFIOS"
   ]
  },
  {
   "cell_type": "markdown",
   "metadata": {},
   "source": [
    "\n",
    "1. Peça para o usuário digitar uma velocidade inicial (em m/s), uma posição inicial (em m) e um instante de tempo (em s) e imprima a posição de um projétil nesse instante de tempo. Dica: use a fórmula matemática:\n",
    "$y(t) = y_0 + v_0 t -\\frac{1}{2}gt^2$\n",
    "Onde, g é a aceleração da gravidade (10m/s²), y(t) é a posição\n",
    "final, y(0) é a posição inicial, v(0) é a velocidade inicial e t é o\n",
    "instante de tempo.\n"
   ]
  },
  {
   "cell_type": "code",
   "execution_count": 5,
   "metadata": {
    "ExecuteTime": {
     "end_time": "2021-10-28T22:36:54.287056Z",
     "start_time": "2021-10-28T22:36:48.079776Z"
    }
   },
   "outputs": [
    {
     "name": "stdout",
     "output_type": "stream",
     "text": [
      "Insira a velocidade inicial em m/s: 2.5\n",
      "Insira a posição inicial em m: 100\n",
      "Digite o tempo no qual se deseja saber a posição em s: 4.2\n",
      "A posição no instante 4.2 segundos é 22.299999999999997 metros\n"
     ]
    }
   ],
   "source": [
    "vo = float(input('Insira a velocidade inicial em m/s: '))\n",
    "g = 10;\n",
    "yo = float(input('Insira a posição inicial em m: '))\n",
    "t = float(input('Digite o tempo no qual se deseja saber a posição em s: '))\n",
    "y = yo + vo*t-0.5*g*t**2\n",
    "print(f'A posição no instante {t} segundos é {y} metros')"
   ]
  },
  {
   "cell_type": "markdown",
   "metadata": {},
   "source": [
    "\n",
    "2. Faça um programa que informe a data e a hora para o usuário. Para\n",
    "isso use a função datetime.now() do módulo datetime"
   ]
  },
  {
   "cell_type": "code",
   "execution_count": 6,
   "metadata": {
    "ExecuteTime": {
     "end_time": "2021-10-28T22:37:08.985827Z",
     "start_time": "2021-10-28T22:37:08.967261Z"
    }
   },
   "outputs": [
    {
     "name": "stdout",
     "output_type": "stream",
     "text": [
      "28/10/2021 19:37\n"
     ]
    }
   ],
   "source": [
    "from datetime import datetime\n",
    "data_atual = datetime.now()\n",
    "resFinal = data_atual.strftime('%d/%m/%Y %H:%M')\n",
    "print(resFinal)"
   ]
  }
 ],
 "metadata": {
  "kernelspec": {
   "display_name": "Python 3",
   "language": "python",
   "name": "python3"
  },
  "language_info": {
   "codemirror_mode": {
    "name": "ipython",
    "version": 3
   },
   "file_extension": ".py",
   "mimetype": "text/x-python",
   "name": "python",
   "nbconvert_exporter": "python",
   "pygments_lexer": "ipython3",
   "version": "3.8.8"
  },
  "varInspector": {
   "cols": {
    "lenName": 16,
    "lenType": 16,
    "lenVar": 40
   },
   "kernels_config": {
    "python": {
     "delete_cmd_postfix": "",
     "delete_cmd_prefix": "del ",
     "library": "var_list.py",
     "varRefreshCmd": "print(var_dic_list())"
    },
    "r": {
     "delete_cmd_postfix": ") ",
     "delete_cmd_prefix": "rm(",
     "library": "var_list.r",
     "varRefreshCmd": "cat(var_dic_list()) "
    }
   },
   "types_to_exclude": [
    "module",
    "function",
    "builtin_function_or_method",
    "instance",
    "_Feature"
   ],
   "window_display": false
  }
 },
 "nbformat": 4,
 "nbformat_minor": 4
}
