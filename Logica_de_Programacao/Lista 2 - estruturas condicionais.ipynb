{
 "cells": [
  {
   "cell_type": "markdown",
   "metadata": {},
   "source": [
    "# Lista 2 - estruturas condicionais"
   ]
  },
  {
   "cell_type": "markdown",
   "metadata": {},
   "source": [
    "1. Faça um programa que peça a idade do usuário e imprima se ele é\n",
    "maior ou menor de 18 anos.\n"
   ]
  },
  {
   "cell_type": "code",
   "execution_count": null,
   "metadata": {
    "ExecuteTime": {
     "end_time": "2021-10-22T22:51:03.919995Z",
     "start_time": "2021-10-22T22:51:01.601352Z"
    }
   },
   "outputs": [],
   "source": [
    "Id = int(input('Insira a sua idade: '))\n",
    "if Id>18:\n",
    "    print('O usuário é maior de 18 anos')\n",
    "elif Id<18:\n",
    "    print('O usuário é menor de 18 anos')\n",
    "else:\n",
    "    print('O usuário tem exatamente 18 anos')"
   ]
  },
  {
   "cell_type": "markdown",
   "metadata": {},
   "source": [
    "\n",
    "\n",
    "2. Faça um programa que peça um número e mostre se ele é positivo\n",
    "ou negativo.\n"
   ]
  },
  {
   "cell_type": "code",
   "execution_count": null,
   "metadata": {
    "ExecuteTime": {
     "end_time": "2021-10-28T22:41:31.576668Z",
     "start_time": "2021-10-28T22:41:29.557929Z"
    }
   },
   "outputs": [],
   "source": [
    "num = float(input('Insira um número: '))\n",
    "if num>0:\n",
    "    print('O número é maior que zero!')\n",
    "elif num<0:\n",
    "    print('O número é menor que zero!')\n",
    "else:\n",
    "    print('O número é zero!')"
   ]
  },
  {
   "cell_type": "markdown",
   "metadata": {},
   "source": [
    "\n",
    "\n",
    "3. Faça um programa que dado um número digitado, mostre se ele é\n",
    "Par ou Ímpar.\n",
    "\n"
   ]
  },
  {
   "cell_type": "code",
   "execution_count": null,
   "metadata": {
    "ExecuteTime": {
     "end_time": "2021-10-26T17:02:50.713060Z",
     "start_time": "2021-10-26T17:02:49.833921Z"
    }
   },
   "outputs": [],
   "source": [
    "num = int(input('Insira um número inteiro: '))\n",
    "if (num%2 == 0):\n",
    "    print('O número é par!')\n",
    "else:\n",
    "    print('O número é ímpar!')"
   ]
  },
  {
   "cell_type": "markdown",
   "metadata": {},
   "source": [
    "\n",
    "4. Faça um programa que peça dois números e mostre o maior deles.\n",
    "\n"
   ]
  },
  {
   "cell_type": "code",
   "execution_count": null,
   "metadata": {
    "ExecuteTime": {
     "end_time": "2021-10-26T17:12:12.957220Z",
     "start_time": "2021-10-26T17:12:11.514688Z"
    }
   },
   "outputs": [],
   "source": [
    "n1 = float(input('Insira o primeiro número: '))\n",
    "n2 = float(input('Insira o segundo número: '))\n",
    "if (n1 > n2):\n",
    "    print(f'O número {n1} é maior que {n2}')\n",
    "elif (n2 > n1):\n",
    "    print(f'O número {n2} é maior que {n1}')\n",
    "else:\n",
    "    print(f'Os números são iguais!')"
   ]
  },
  {
   "cell_type": "markdown",
   "metadata": {},
   "source": [
    "\n",
    "5. Faça um programa que leia a validade das informações:\n",
    "\n",
    "a. Idade: entre 0 e 150;\n",
    "\n",
    "b. Salário: maior que 0;\n",
    "\n",
    "c. Sexo: M, F ou Outro;\n",
    "\n",
    "O programa deve imprimir uma mensagem de erro para cada\n",
    "informação inválida.\n"
   ]
  },
  {
   "cell_type": "code",
   "execution_count": null,
   "metadata": {
    "ExecuteTime": {
     "end_time": "2021-10-28T22:46:49.855410Z",
     "start_time": "2021-10-28T22:46:29.751993Z"
    }
   },
   "outputs": [],
   "source": [
    "idade = int(input(\"Digite sua idade: \"))\n",
    "\n",
    "if idade < 0 or idade > 150:\n",
    "    print(\"A idade informada é inválida!\")\n",
    "\n",
    "salario = float(input(\"Digite seu salário em R$: \"))\n",
    "\n",
    "if salario < 0:\n",
    "    print(\"O salário informado é inválido!\")\n",
    "\n",
    "sexo = input(\"Digite o sexo (M/F/OUTRO): \")\n",
    "\n",
    "if sexo !=  \"M\" or sexo !=  \"F\" or sexo !=  \"OUTRO\":\n",
    "    print(\"O sexo informado é inválido!\")\n"
   ]
  },
  {
   "cell_type": "markdown",
   "metadata": {},
   "source": [
    "\n",
    "\n",
    "6. Escreva um programa que peça a nota de 3 provas de um aluno e\n",
    "verifique se ele passou o não de ano.\n",
    "Obs.: O aluno irá passar de ano se sua média for maior que 6.\n"
   ]
  },
  {
   "cell_type": "code",
   "execution_count": null,
   "metadata": {
    "ExecuteTime": {
     "end_time": "2021-10-26T20:37:06.372676Z",
     "start_time": "2021-10-26T20:37:04.175526Z"
    }
   },
   "outputs": [],
   "source": [
    "n1 = float(input('Insira a primeira nota: '))\n",
    "n2 = float(input('Insira a segunda nota: '))\n",
    "n3 = float(input('Insira a terceira nota: '))\n",
    "if ( (n1 + n2 + n3)/3 >= 6.0 ):\n",
    "    print('Aprovado!') \n",
    "else:\n",
    "    print('Reprovado!')"
   ]
  },
  {
   "cell_type": "markdown",
   "metadata": {},
   "source": [
    "\n",
    "7. Faça um programa que mostre uma questão de múltipla escolha com\n",
    "5 opções (letras a, b, c, d, e e). Sabendo a resposta certa, o programa\n",
    "deve receber a opção do usuário e informar a letra que o usuário\n",
    "marcou e se a resposta está certa ou errada.\n"
   ]
  },
  {
   "cell_type": "code",
   "execution_count": null,
   "metadata": {
    "ExecuteTime": {
     "end_time": "2021-10-28T22:49:54.924145Z",
     "start_time": "2021-10-28T22:49:49.933791Z"
    }
   },
   "outputs": [],
   "source": [
    "print('Quanto é 1x0?')\n",
    "print(\"a) 22\")\n",
    "print(\"b) 0\")\n",
    "print(\"c) 4\")\n",
    "print(\"d) -4\")\n",
    "print(\"e) -22\")\n",
    "respUser = input('Insira sua resposta: ').lower()\n",
    "respCert = 'b'\n",
    "if respUser != respCert:\n",
    "    print(f'A sua resposta foi \"{respUser}\" e está incorreta!')\n",
    "else:\n",
    "    print(f'A sua resposta foi \"{respUser}\" e está correta!')"
   ]
  },
  {
   "cell_type": "markdown",
   "metadata": {},
   "source": [
    "\n",
    "\n",
    "8. Vamos fazer um programa para verificar quem é o assassino de um\n",
    "crime. Para descobrir o assassino, a polícia faz um pequeno\n",
    "questionário com 5 perguntas onde a resposta só pode ser sim ou não:\n",
    "a. Mora perto da vítima?\n",
    "b. Já trabalhou com a vítima?\n",
    "c. Telefonou para a vítima?\n",
    "d. Esteve no local do crime?\n",
    "e. Devia para a vítima?\n",
    "Cada resposta sim dá um ponto para o suspeito. A polícia considera\n",
    "que os suspeitos com 5 pontos são os assassinos, com 4 a 3 pontos são\n",
    "cúmplices e 2 pontos são apenas suspeitos, necessitando outras\n",
    "investigações. Valores abaixo de 1 são liberados.\n"
   ]
  },
  {
   "cell_type": "code",
   "execution_count": null,
   "metadata": {
    "ExecuteTime": {
     "end_time": "2021-10-28T22:50:49.855979Z",
     "start_time": "2021-10-28T22:50:43.868913Z"
    }
   },
   "outputs": [],
   "source": [
    "respostas = []\n",
    "print('Responda s para Sim e n para Não')\n",
    "r1 = input('Mora perto da vítima?').lower()\n",
    "respostas.append(r1)\n",
    "r2 = input('Já trabalhou com a vítima?').lower()\n",
    "respostas.append(r2)\n",
    "r3 = input('Telefonou para a vítima?').lower()\n",
    "respostas.append(r3)\n",
    "r4 = input('Esteve no local do crime?').lower()\n",
    "respostas.append(r4)\n",
    "r5 = input('Devia para a vítima?').lower()\n",
    "respostas.append(r5)\n",
    "contSim = respostas.count('s')\n",
    "if contSim == 5:\n",
    "    print('Assassino!')\n",
    "elif contSim >= 3:\n",
    "    print('Cúmplice!')\n",
    "elif contSim == 2:\n",
    "    print('Suspeito!')\n",
    "else:\n",
    "    print('Liberado.')"
   ]
  },
  {
   "cell_type": "markdown",
   "metadata": {},
   "source": [
    "\n",
    "9. Um produto vai sofrer aumento de acordo com a Tabela 1 abaixo. Faça\n",
    "um programa que peça para o usuário digitar o valor do produto de\n",
    "acordo com o preço antigo e escreva uma das mensagens da Tabela\n",
    "2, de acordo com o preço reajustado:\n",
    "\n",
    "REAJUSTE: \n",
    "\n",
    "- Até 50 : 5\\%\n",
    "\n",
    "- Entre 50 e 100 : 10\\%\n",
    "\n",
    "- Entre 100 e 150 : 13\\%\n",
    "\n",
    "- Acima de 150 : 15\\%\n",
    "\n",
    "MENSAGENS: \n",
    "\n",
    "- Até 80 : Barato\n",
    "\n",
    "- Entre 80 e 115 : Razoável\n",
    "\n",
    "- Entre 115 e 150 : Normal\n",
    "\n",
    "- Entre 150 e 170 : Caro\n",
    "\n",
    "- Acima de 170 : Muito caro"
   ]
  },
  {
   "cell_type": "code",
   "execution_count": null,
   "metadata": {},
   "outputs": [],
   "source": [
    "valor = float(input(\"Digite o valor inicial do produto: \"))\n",
    "\n",
    "if valor <= 50:\n",
    "    valor = valor*(1 + 0.05)\n",
    "elif valor > 50 and valor <= 100:\n",
    "    valor = valor*(1 + 0.10)\n",
    "elif valor > 100 and valor <= 150:\n",
    "    valor = valor*(1 + 0.13)\n",
    "else:\n",
    "    valor = vallor*(1 + 0.15)\n",
    "\n",
    "print(\"Valor ajustado:\", valor)\n",
    "    \n",
    "print(\"\\n\")\n",
    "if valor <= 80:\n",
    "    print(\"Barato!\")\n",
    "elif valor > 80 and valor <= 115:\n",
    "    print(\"Razoável\")\n",
    "elif valor > 115 and valor <= 150:\n",
    "    print(\"Normal\")\n",
    "elif valor > 150 and valor <= 170:\n",
    "    print(\"Caro\")\n",
    "else:\n",
    "    print(\"Muito caro!\") "
   ]
  },
  {
   "cell_type": "markdown",
   "metadata": {},
   "source": [
    "__________________\n",
    "__________________\n",
    "\n",
    "__________________\n",
    "__________________"
   ]
  },
  {
   "cell_type": "markdown",
   "metadata": {},
   "source": [
    "# DESAFIOS"
   ]
  },
  {
   "cell_type": "markdown",
   "metadata": {},
   "source": [
    "\n",
    "1. Faça um programa que leia 3 números e informe o maior deles.\n",
    "\n"
   ]
  },
  {
   "cell_type": "code",
   "execution_count": 5,
   "metadata": {
    "ExecuteTime": {
     "end_time": "2021-10-28T23:14:26.271940Z",
     "start_time": "2021-10-28T23:14:11.003513Z"
    }
   },
   "outputs": [
    {
     "name": "stdout",
     "output_type": "stream",
     "text": [
      "Insira o primeiro número: -0.789\n",
      "Insira o segundo número: 0\n",
      "Insira o terceiro número: -0.000000000001\n",
      "O segundo número é o maior!\n"
     ]
    }
   ],
   "source": [
    "num1 = float(input('Insira o primeiro número: '))\n",
    "num2 = float(input('Insira o segundo número: '))\n",
    "num3 = float(input('Insira o terceiro número: '))\n",
    "if (num1 > num2) and (num1 > num3):\n",
    "    print('O primeiro número é o maior!')\n",
    "elif (num2 > num1) and (num2 > num3):\n",
    "    print('O segundo número é o maior!')\n",
    "else:\n",
    "    print('O terceiro número é maior!')"
   ]
  },
  {
   "cell_type": "markdown",
   "metadata": {},
   "source": [
    "2. Faça o mesmo programa do exercício anterior, porém com 4\n",
    "números.\n",
    "\n"
   ]
  },
  {
   "cell_type": "code",
   "execution_count": 9,
   "metadata": {
    "ExecuteTime": {
     "end_time": "2021-10-28T23:18:14.653503Z",
     "start_time": "2021-10-28T23:18:10.683620Z"
    }
   },
   "outputs": [
    {
     "name": "stdout",
     "output_type": "stream",
     "text": [
      "Insira o primeiro número: 1\n",
      "Insira o segundo número: 2\n",
      "Insira o terceiro número: 4\n",
      "Insira o quarto número: 3\n",
      "O terceiro número é o maior!\n"
     ]
    }
   ],
   "source": [
    "num1 = float(input('Insira o primeiro número: '))\n",
    "num2 = float(input('Insira o segundo número: '))\n",
    "num3 = float(input('Insira o terceiro número: '))\n",
    "num4 = float(input('Insira o quarto número: '))\n",
    "if (num1 > num2) and (num1 > num3) and (num1 > num4):\n",
    "    print('O primeiro número é o maior!')\n",
    "elif (num2 > num1) and (num2 > num3) and (num2 > num4):\n",
    "    print('O segundo número é o maior!')\n",
    "elif (num3 > num1) and (num3 > num2) and (num3 > num4):\n",
    "    print('O terceiro número é o maior!')\n",
    "else:\n",
    "    print('O quarto número é maior!')"
   ]
  },
  {
   "cell_type": "markdown",
   "metadata": {},
   "source": [
    "3. Um hospital quer fazer o diagnóstico de gripe ou dengue a partir de\n",
    "um questionário de sintomas, tendo as perguntas abaixo, faça um\n",
    "programa que faça o diagnóstico deste hospital:\n",
    "a. Sente dor no corpo?\n",
    "b. Você tem febre?\n",
    "c. Você tem tosse?\n",
    "d. Está com congestão nasal?\n",
    "e. Tem manchas pelo corpo?\n",
    "Para o diagnóstico ele tem a seguinte tabela\n",
    "\n",
    "<img src=https://s3-sa-east-1.amazonaws.com/lcpi/7df17e28-dd5c-4ef0-8ccf-941aa400d2ab.JPG width=500>"
   ]
  },
  {
   "cell_type": "code",
   "execution_count": null,
   "metadata": {
    "ExecuteTime": {
     "end_time": "2021-10-28T23:08:08.382459Z",
     "start_time": "2021-10-28T23:08:01.175613Z"
    }
   },
   "outputs": [],
   "source": [
    "A = input('Sente dor no corpo? ').upper()\n",
    "B = input('Você tem febre? ').upper()\n",
    "C = input('Você tem tosse? ').upper()\n",
    "D = input('Está com congestão nasal? ').upper()\n",
    "E = input('Tem manchas pelo corpo? ').upper()\n",
    "if A == 'SIM' and B == 'SIM' and C == 'NAO' and D == 'NAO' and E == 'SIM':\n",
    "    print('A doença é Dengue!')\n",
    "elif A == 'SIM' and B == 'SIM' and C == 'SIM' and D == 'SIM' and E == 'NAO':\n",
    "    print('A doença é Gripe!')\n",
    "elif A == 'NAO' and B == 'SIM' and C == 'SIM' and D == 'SIM' and E == 'NAO':\n",
    "    print('A doença é Gripe!')\n",
    "elif A == 'SIM' and B == 'SIM' and C == 'SIM' and D == 'SIM' and E == 'NAO':\n",
    "    print('A doença é Gripe!')\n",
    "elif A == 'SIM' and B == 'NAO' and C == 'NAO' and D == 'NAO' and E == 'NAO':\n",
    "    print('Não está doente!')\n",
    "elif A == 'NAO' and B == 'NAO' and C == 'NAO' and D == 'NAO' and E == 'NAO':\n",
    "    print('Não está doente!')\n",
    "else:\n",
    "    print('Necessidade de exames para obter diagnóstico.')"
   ]
  }
 ],
 "metadata": {
  "kernelspec": {
   "display_name": "Python 3",
   "language": "python",
   "name": "python3"
  },
  "language_info": {
   "codemirror_mode": {
    "name": "ipython",
    "version": 3
   },
   "file_extension": ".py",
   "mimetype": "text/x-python",
   "name": "python",
   "nbconvert_exporter": "python",
   "pygments_lexer": "ipython3",
   "version": "3.8.8"
  },
  "varInspector": {
   "cols": {
    "lenName": 16,
    "lenType": 16,
    "lenVar": 40
   },
   "kernels_config": {
    "python": {
     "delete_cmd_postfix": "",
     "delete_cmd_prefix": "del ",
     "library": "var_list.py",
     "varRefreshCmd": "print(var_dic_list())"
    },
    "r": {
     "delete_cmd_postfix": ") ",
     "delete_cmd_prefix": "rm(",
     "library": "var_list.r",
     "varRefreshCmd": "cat(var_dic_list()) "
    }
   },
   "types_to_exclude": [
    "module",
    "function",
    "builtin_function_or_method",
    "instance",
    "_Feature"
   ],
   "window_display": false
  }
 },
 "nbformat": 4,
 "nbformat_minor": 4
}
